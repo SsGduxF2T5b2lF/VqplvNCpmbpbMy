{
 "cells": [
  {
   "cell_type": "markdown",
   "id": "7cf5b650",
   "metadata": {},
   "source": [
    "## Calculate interpolator error\n",
    "\n",
    "Considering `data` as list of values\n",
    "```python\n",
    "[1, 0, 1, 1, 0]\n",
    "```\n",
    "\n",
    "and `interpolated` as list of calculated values from interpolator\n",
    "```python\n",
    "[1, 0, 1, 1, 1]\n",
    "```\n",
    "\n",
    "then `error` would be calculated with,\n",
    "1. [RMS Error](https://scikit-learn.org/stable/modules/generated/sklearn.metrics.mean_squared_error.html#sklearn.metrics.mean_squared_error)\n",
    "2. [Mean Abs Error](https://scikit-learn.org/stable/modules/generated/sklearn.metrics.mean_absolute_error.html#sklearn.metrics.mean_absolute_error)\n",
    "3. [Median Abs Error](https://scikit-learn.org/stable/modules/generated/sklearn.metrics.median_absolute_error.html#sklearn.metrics.median_absolute_error) best is 0\n",
    "\n",
    "other error calcs can be found [here](https://scikit-learn.org/stable/modules/classes.html#regression-metrics)"
   ]
  }
 ],
 "metadata": {
  "kernelspec": {
   "display_name": "Python 3 (ipykernel)",
   "language": "python",
   "name": "python3"
  },
  "language_info": {
   "codemirror_mode": {
    "name": "ipython",
    "version": 3
   },
   "file_extension": ".py",
   "mimetype": "text/x-python",
   "name": "python",
   "nbconvert_exporter": "python",
   "pygments_lexer": "ipython3",
   "version": "3.8.10"
  }
 },
 "nbformat": 4,
 "nbformat_minor": 5
}

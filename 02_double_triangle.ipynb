{
 "cells": [
  {
   "cell_type": "code",
   "execution_count": 9,
   "id": "16ae2391",
   "metadata": {},
   "outputs": [],
   "source": [
    "from vpython import canvas, sphere, vertex, triangle, vector, color, quad"
   ]
  },
  {
   "cell_type": "code",
   "execution_count": 13,
   "id": "09cf30a5",
   "metadata": {},
   "outputs": [
    {
     "data": {
      "text/html": [
       "<div id=\"glowscript\" class=\"glowscript\"></div>"
      ],
      "text/plain": [
       "<IPython.core.display.HTML object>"
      ]
     },
     "metadata": {},
     "output_type": "display_data"
    },
    {
     "data": {
      "application/javascript": [
       "if (typeof Jupyter !== \"undefined\") { window.__context = { glowscript_container: $(\"#glowscript\").removeAttr(\"id\")};}else{ element.textContent = ' ';}"
      ],
      "text/plain": [
       "<IPython.core.display.Javascript object>"
      ]
     },
     "metadata": {},
     "output_type": "display_data"
    }
   ],
   "source": [
    "scene = canvas()\n",
    "\n",
    "trongles = [\n",
    "    [[1.5, 1, 0], [-1.5, 1, 0], [0, 0, 0], [1.5, 1, 1]],\n",
    "    [[1, -1, 0], [-1, -1, 0], [0, 0, 0], [1, -1, 1]]\n",
    "]\n",
    "\n",
    "for trong in trongles:\n",
    "    verts = [\n",
    "        vertex(pos=vector(*item)) for item in trong\n",
    "    ]\n",
    "    quad(vs=verts)"
   ]
  }
 ],
 "metadata": {
  "kernelspec": {
   "display_name": "Python 3 (ipykernel)",
   "language": "python",
   "name": "python3"
  },
  "language_info": {
   "codemirror_mode": {
    "name": "ipython",
    "version": 3
   },
   "file_extension": ".py",
   "mimetype": "text/x-python",
   "name": "python",
   "nbconvert_exporter": "python",
   "pygments_lexer": "ipython3",
   "version": "3.8.10"
  }
 },
 "nbformat": 4,
 "nbformat_minor": 5
}

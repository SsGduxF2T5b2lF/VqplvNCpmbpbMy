{
 "cells": [
  {
   "cell_type": "code",
   "execution_count": 3,
   "id": "925936b3",
   "metadata": {},
   "outputs": [],
   "source": [
    "import pyrender\n",
    "import trimesh\n",
    "import warnings"
   ]
  },
  {
   "cell_type": "code",
   "execution_count": 6,
   "id": "4708f01a",
   "metadata": {},
   "outputs": [
    {
     "name": "stdout",
     "output_type": "stream",
     "text": [
      "<class 'trimesh.points.PointCloud'>\n"
     ]
    },
    {
     "name": "stderr",
     "output_type": "stream",
     "text": [
      "/tmp/ipykernel_32374/2904589319.py:9: UserWarning: Expected a Trimesh or a list, got a <class 'trimesh.points.PointCloud'>\n",
      "  warnings.warn(str(e))\n"
     ]
    },
    {
     "data": {
      "text/plain": [
       "Viewer(width=640, height=480)"
      ]
     },
     "execution_count": 6,
     "metadata": {},
     "output_type": "execute_result"
    }
   ],
   "source": [
    "glb = trimesh.load('./12_c_AU_FINAL_0.5_999999999_intervalLabel_linear_lewiner.glb')\n",
    "le = [item[1] for item in list(glb.geometry.items())]\n",
    "scene = pyrender.Scene()\n",
    "for item in le:\n",
    "    print(type(item))\n",
    "    try:\n",
    "        scene.add(pyrender.Mesh.from_trimesh(item))\n",
    "    except Exception as e:\n",
    "        warnings.warn(str(e))\n",
    "        pass\n",
    "pyrender.Viewer(scene, use_raymond_lighting=True)"
   ]
  }
 ],
 "metadata": {
  "kernelspec": {
   "display_name": "Python 3 (ipykernel)",
   "language": "python",
   "name": "python3"
  },
  "language_info": {
   "codemirror_mode": {
    "name": "ipython",
    "version": 3
   },
   "file_extension": ".py",
   "mimetype": "text/x-python",
   "name": "python",
   "nbconvert_exporter": "python",
   "pygments_lexer": "ipython3",
   "version": "3.8.10"
  }
 },
 "nbformat": 4,
 "nbformat_minor": 5
}
